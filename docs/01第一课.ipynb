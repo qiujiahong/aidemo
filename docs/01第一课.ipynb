{
 "cells": [
  {
   "cell_type": "markdown",
   "id": "6716136e-2eb7-4739-8406-f9976b01d127",
   "metadata": {},
   "source": [
    "# 第一课"
   ]
  },
  {
   "cell_type": "markdown",
   "id": "8a1ffb7a-3ff0-425f-a4bb-496c4379e462",
   "metadata": {},
   "source": [
    "## 简介\n",
    "\n",
    "本文讲解如何使用openai账户，做接口开发\n",
    "\n",
    "\n"
   ]
  },
  {
   "cell_type": "markdown",
   "id": "d462099b-fbdd-4316-a2c9-6b78529e663d",
   "metadata": {},
   "source": [
    "## 步骤\n",
    "\n",
    "\n",
    "* 安装conda，这里不详细说明\n",
    "* 准备 OPENAI_API_KEY，这个信息请在官网获取\n",
    "* 配置OPENAI_API_KEY，文件``~/.bash_profile``末尾添加\n",
    "\n",
    "```\n",
    "## sk-XXXXXX 是截图的值，杜泽可以按自己的情况配置\n",
    "export OPENAI_API_KEY=sk-XXXXXX\n",
    "\n",
    "```\n",
    "* 使用环境变量生效 \n",
    "\n",
    "```\n",
    "source ~/.bash_profile \n",
    "```\n",
    "\n",
    "* 创建环境和依赖\n",
    "\n",
    "```bash\n",
    "conda create --name openai-env python=3.11.5\n",
    "conda activate openai-env\n",
    "pip install openai jupyter\n",
    "\n",
    "```\n",
    "\n",
    "* 启动jupyter\n",
    "\n",
    "```\n",
    "# 启动本地应用\n",
    "cd /path/in/applications/\n",
    "\n",
    "jupyter notebook\n",
    "\n",
    "```\n",
    "\n",
    "* 在页面上创建一个``demo.ipynb``\n",
    "\n",
    "* 创建代码\n"
   ]
  },
  {
   "cell_type": "code",
   "execution_count": 1,
   "id": "0a84eda8-e250-4657-924e-aa479faef99a",
   "metadata": {},
   "outputs": [
    {
     "name": "stdout",
     "output_type": "stream",
     "text": [
      "ChatCompletionMessage(content=\"In the realm of code and logic pure,\\nThere lies a concept, deep and sure.\\nRecursion, a loop like no other,\\nA mystical dance, like a spiral's bother.\\n\\nAn endless cycle, it may seem,\\nBut in each turn, a recurring dream.\\nA function calling itself within,\\nUnraveling layers, like a mandolin's spin.\\n\\nA journey through the looking glass,\\nRepeating tasks with every pass.\\nBreaking problems into parts untwined,\\nTill solutions emerge, one of a kind.\\n\\nLike a Russian doll, nested and grand,\\nEach call unfolding, as we planned.\\nA mirror reflecting the code's own grace,\\nInfinite loops, a boundless space.\\n\\nSo embrace the recursive flight,\\nIn the land of code, shrouded in light.\\nA loop that transcends the linearity,\\nA poetic dance of computational clarity.\", role='assistant', function_call=None, tool_calls=None)\n"
     ]
    }
   ],
   "source": [
    "from openai import OpenAI\n",
    "\n",
    "client = OpenAI()\n",
    "#client = OpenAI(\n",
    "#  api_key=os.environ['OPENAI_API_KEY'],  # this is also the default, it can be omitted\n",
    "#)\n",
    "\n",
    "\n",
    "completion = client.chat.completions.create(\n",
    "  model=\"gpt-3.5-turbo\",\n",
    "  messages=[\n",
    "    {\"role\": \"system\", \"content\": \"You are a poetic assistant, skilled in explaining complex programming concepts with creative flair.\"},\n",
    "    {\"role\": \"user\", \"content\": \"Compose a poem that explains the concept of recursion in programming.\"}\n",
    "  ]\n",
    ")\n",
    "\n",
    "print(completion.choices[0].message)\n",
    "\n"
   ]
  },
  {
   "cell_type": "markdown",
   "id": "83f5e4b1-ccfe-40e2-9bd4-8648a57118dc",
   "metadata": {},
   "source": [
    "执行效果：\n",
    "![image.png](https://bbs-img.huaweicloud.com/blogs/img/20240327/1711537404951674440.png)"
   ]
  },
  {
   "cell_type": "markdown",
   "id": "54cba9ad-f11f-431d-b48c-b9da299ab98b",
   "metadata": {
    "jp-MarkdownHeadingCollapsed": true
   },
   "source": [
    "## 关键命令\n",
    "\n",
    "```\n",
    "# 启动linux环境\n",
    "conda activate openai-env\n",
    "# 启动笔记\n",
    "jupyter notebook\n",
    "\n",
    "```\n"
   ]
  }
 ],
 "metadata": {
  "kernelspec": {
   "display_name": "Python 3 (ipykernel)",
   "language": "python",
   "name": "python3"
  },
  "language_info": {
   "codemirror_mode": {
    "name": "ipython",
    "version": 3
   },
   "file_extension": ".py",
   "mimetype": "text/x-python",
   "name": "python",
   "nbconvert_exporter": "python",
   "pygments_lexer": "ipython3",
   "version": "3.11.5"
  },
  "vscode": {
   "interpreter": {
    "hash": "79bef6d67752ef99b61f6f5e2bc278e7d711dfb50766a18d611404b40219be24"
   }
  }
 },
 "nbformat": 4,
 "nbformat_minor": 5
}
