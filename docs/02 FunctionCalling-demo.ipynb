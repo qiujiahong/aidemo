{
 "cells": [
  {
   "cell_type": "code",
   "execution_count": 54,
   "id": "b0fbe107-adef-4fcb-8123-94819f260850",
   "metadata": {},
   "outputs": [],
   "source": [
    "from openai import OpenAI\n",
    "import json\n",
    "\n",
    "client = OpenAI()\n",
    "\n",
    "# Example dummy function hard coded to return the same weather\n",
    "# In production, this could be your backend API or an external API\n",
    "def sunwukong_function(data):\n",
    "    \"\"\"\n",
    "    孙悟空算法函数，该函数定义了数据集计算过程\n",
    "    :param data: 必要参数，表示带入计算的数据表，用字符串进行表示\n",
    "    :return：sunwukong_function函数计算后的结果，返回结果为表示为JSON格式的Dataframe类型对象\n",
    "    \"\"\"\n",
    "    data = io.StringIO(data)\n",
    "    df_new = pd.read_csv(data, sep='\\s+', index_col=0)\n",
    "    res = df_new['x1'] * 10\n",
    "    return json.dumps(res.to_string())\n",
    "\n",
    "\n",
    "df_str=pd.DataFrame({'x1':[1, 2], 'x2':[3, 4]}).to_string\n",
    "\n",
    "def run_conversation():\n",
    "    # Step 1: send the conversation and available functions to the model\n",
    "    messages=[\n",
    "    {\"role\": \"system\", \"content\": \"数据集data：%s，数据集以字符串形式呈现\" % df_str},\n",
    "    {\"role\": \"user\", \"content\": \"请在数据集data上执行孙悟空算法\"}  \n",
    "        ]\n",
    "    tools = [\n",
    "    {\n",
    "        \"type\": \"function\",\n",
    "        \"function\": {\"name\": \"sunwukong_function\",\n",
    "                      \"description\": \"用于执行孙悟空算法函数，定义了一种特殊的数据集计算过程\",\n",
    "                      \"parameters\": {\"type\": \"object\",\n",
    "                                     \"properties\": {\"data\": {\"type\": \"string\",\n",
    "                                                             \"description\": \"执行孙悟空算法的数据集\"},\n",
    "                                                   },\n",
    "                                     \"required\": [\"data\"],\n",
    "                                    },\n",
    "                     }\n",
    "    }]\n",
    "\n",
    "    response = client.chat.completions.create(\n",
    "        model=\"gpt-3.5-turbo\",\n",
    "        messages=messages,\n",
    "        tools=tools,\n",
    "        tool_choice=\"auto\",  # auto is default, but we'll be explicit\n",
    "    )\n",
    "    response_message = response.choices[0].message\n",
    "    tool_calls = response_message.tool_calls\n",
    "    # Step 2: check if the model wanted to call a function\n",
    "    if tool_calls:\n",
    "        # Step 3: call the function\n",
    "        # Note: the JSON response may not always be valid; be sure to handle errors\n",
    "        available_functions = {\n",
    "            \"sunwukong_function\": sunwukong_function,\n",
    "        }  # only one function in this example, but you can have multiple\n",
    "        messages.append(response_message)  # extend conversation with assistant's reply\n",
    "        # Step 4: send the info for each function call and function response to the model\n",
    "        for tool_call in tool_calls:\n",
    "            function_name = tool_call.function.name\n",
    "            function_to_call = available_functions[function_name]\n",
    "            function_args = json.loads(tool_call.function.arguments)\n",
    "            function_response = function_to_call(**function_args)\n",
    "            messages.append(\n",
    "                {\n",
    "                    \"tool_call_id\": tool_call.id,\n",
    "                    \"role\": \"tool\",\n",
    "                    \"name\": function_name,\n",
    "                    \"content\": function_response,\n",
    "                }\n",
    "            )  # extend conversation with function response\n",
    "        second_response = client.chat.completions.create(\n",
    "            model=\"gpt-3.5-turbo\",\n",
    "            messages=messages,\n",
    "        )  # get a new response from the model where it can see the function response\n",
    "        return second_response\n",
    "result=run_conversation()\n"
   ]
  },
  {
   "cell_type": "code",
   "execution_count": 55,
   "id": "11a8005e-7906-453b-acdf-603ff35b3c50",
   "metadata": {},
   "outputs": [
    {
     "data": {
      "text/plain": [
       "'孙悟空算法在数据集上的执行结果是：\\\\n   x1  x2\\\\n0   10\\\\n1   20\\\\n'"
      ]
     },
     "execution_count": 55,
     "metadata": {},
     "output_type": "execute_result"
    }
   ],
   "source": [
    "result.choices[0].message.content"
   ]
  },
  {
   "cell_type": "code",
   "execution_count": 56,
   "id": "56ed99d6-91a2-41b5-a1d6-f92563298226",
   "metadata": {},
   "outputs": [
    {
     "data": {
      "text/plain": [
       "[{'role': 'system',\n",
       "  'content': '数据集data:    x1  x2\\n0   1   3\\n1   2   4, 数据集以字符串方式呈现'},\n",
       " {'role': 'user', 'content': '数据集data上执行孙悟空算法'},\n",
       " ChatCompletionMessage(content=None, role='assistant', function_call=None, tool_calls=[ChatCompletionMessageToolCall(id='call_xi8mVXy0Uqk8zqRv8k4c8VRB', function=Function(arguments='{\"data\":\"    x1  x2\\\\n0   1   3\\\\n1   2   4\"}', name='sunwukong_function'), type='function')]),\n",
       " {'tool_call_id': 'call_xi8mVXy0Uqk8zqRv8k4c8VRB',\n",
       "  'role': 'tool',\n",
       "  'name': 'sunwukong_function',\n",
       "  'content': '\"   x1  x2\\\\n0  10  30\\\\n1  20  40\"'},\n",
       " {'tool_call_id': 'call_xi8mVXy0Uqk8zqRv8k4c8VRB',\n",
       "  'role': 'tool',\n",
       "  'name': 'sunwukong_function',\n",
       "  'content': '\"   x1  x2\\\\n0  10  30\\\\n1  20  40\"'}]"
      ]
     },
     "execution_count": 56,
     "metadata": {},
     "output_type": "execute_result"
    }
   ],
   "source": [
    "messages"
   ]
  },
  {
   "cell_type": "code",
   "execution_count": null,
   "id": "6f0996c2-1abe-4d5a-9609-ba4b6638ac87",
   "metadata": {},
   "outputs": [],
   "source": []
  }
 ],
 "metadata": {
  "kernelspec": {
   "display_name": "Python 3 (ipykernel)",
   "language": "python",
   "name": "python3"
  },
  "language_info": {
   "codemirror_mode": {
    "name": "ipython",
    "version": 3
   },
   "file_extension": ".py",
   "mimetype": "text/x-python",
   "name": "python",
   "nbconvert_exporter": "python",
   "pygments_lexer": "ipython3",
   "version": "3.11.5"
  }
 },
 "nbformat": 4,
 "nbformat_minor": 5
}
